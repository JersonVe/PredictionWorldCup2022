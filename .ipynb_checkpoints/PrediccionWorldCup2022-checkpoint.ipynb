{
 "cells": [
  {
   "cell_type": "markdown",
   "id": "7eaf33ee",
   "metadata": {
    "hide_input": false,
    "run_control": {
     "marked": false
    }
   },
   "source": [
    "# Predicción Mundial 2022"
   ]
  },
  {
   "cell_type": "markdown",
   "id": "a6360590",
   "metadata": {
    "run_control": {
     "marked": true
    }
   },
   "source": [
    "## Importamos datos"
   ]
  },
  {
   "cell_type": "code",
   "execution_count": 19,
   "id": "033cb85c",
   "metadata": {},
   "outputs": [],
   "source": [
    "import pandas as pd\n",
    "\n",
    "df_data_historica = pd.read_csv('fifa_worldcup_matches.csv')\n",
    "df_fixture = pd.read_csv('fifa_worldcup_fixture.csv')\n",
    "df_data_faltante = pd.read_csv('fifa_worldcup_missing_data.csv')"
   ]
  },
  {
   "cell_type": "markdown",
   "id": "74d23a34",
   "metadata": {},
   "source": [
    "## Limpieza de datos"
   ]
  },
  {
   "cell_type": "markdown",
   "id": "2b09236e",
   "metadata": {},
   "source": [
    "### Limpieza de df_fixture"
   ]
  },
  {
   "cell_type": "code",
   "execution_count": 20,
   "id": "d1a7bf99",
   "metadata": {},
   "outputs": [],
   "source": [
    "# str sirve para acceder a la cadena de texto\n",
    "df_fixture['home'] = df_fixture['home'].str.strip()\n",
    "df_fixture['away'] = df_fixture['away'].str.strip()"
   ]
  },
  {
   "cell_type": "markdown",
   "id": "aaf2142b",
   "metadata": {},
   "source": [
    "### Limpieza de df_data_faltante"
   ]
  },
  {
   "cell_type": "code",
   "execution_count": 26,
   "id": "d2b3b17c",
   "metadata": {
    "scrolled": true
   },
   "outputs": [],
   "source": [
    "# .isnull devuelve un dataframe del mismo tamaño que el original pero en cada celda\n",
    "# devuelve un true/false dependiendo de si el dato es null\n",
    "# df_data_faltante.isnull()\n",
    "\n",
    "# Devuelve un df con los datos NaN\n",
    "df_data_faltante[df_data_faltante['home'].isnull()]\n",
    "\n",
    "# Elimina data faltante, inplace=True es un argumento que se utiliza para\n",
    "# modificar el objeto original en lugar de crear una copia del objeto y modificar la copia\n",
    "df_data_faltante.dropna(inplace = True)"
   ]
  },
  {
   "cell_type": "code",
   "execution_count": 34,
   "id": "b01c480f",
   "metadata": {},
   "outputs": [
    {
     "data": {
      "text/html": [
       "<div>\n",
       "<style scoped>\n",
       "    .dataframe tbody tr th:only-of-type {\n",
       "        vertical-align: middle;\n",
       "    }\n",
       "\n",
       "    .dataframe tbody tr th {\n",
       "        vertical-align: top;\n",
       "    }\n",
       "\n",
       "    .dataframe thead th {\n",
       "        text-align: right;\n",
       "    }\n",
       "</style>\n",
       "<table border=\"1\" class=\"dataframe\">\n",
       "  <thead>\n",
       "    <tr style=\"text-align: right;\">\n",
       "      <th></th>\n",
       "      <th>home</th>\n",
       "      <th>score</th>\n",
       "      <th>away</th>\n",
       "      <th>year</th>\n",
       "    </tr>\n",
       "  </thead>\n",
       "  <tbody>\n",
       "    <tr>\n",
       "      <th>0</th>\n",
       "      <td>France</td>\n",
       "      <td>4–1</td>\n",
       "      <td>Mexico</td>\n",
       "      <td>1930</td>\n",
       "    </tr>\n",
       "    <tr>\n",
       "      <th>17</th>\n",
       "      <td>United States</td>\n",
       "      <td>3–0</td>\n",
       "      <td>Belgium</td>\n",
       "      <td>1930</td>\n",
       "    </tr>\n",
       "    <tr>\n",
       "      <th>16</th>\n",
       "      <td>Brazil</td>\n",
       "      <td>4–0</td>\n",
       "      <td>Bolivia</td>\n",
       "      <td>1930</td>\n",
       "    </tr>\n",
       "    <tr>\n",
       "      <th>15</th>\n",
       "      <td>Argentina</td>\n",
       "      <td>1–0</td>\n",
       "      <td>France</td>\n",
       "      <td>1930</td>\n",
       "    </tr>\n",
       "    <tr>\n",
       "      <th>14</th>\n",
       "      <td>Chile</td>\n",
       "      <td>3–0</td>\n",
       "      <td>Mexico</td>\n",
       "      <td>1930</td>\n",
       "    </tr>\n",
       "    <tr>\n",
       "      <th>...</th>\n",
       "      <td>...</td>\n",
       "      <td>...</td>\n",
       "      <td>...</td>\n",
       "      <td>...</td>\n",
       "    </tr>\n",
       "    <tr>\n",
       "      <th>863</th>\n",
       "      <td>Sweden</td>\n",
       "      <td>0–2</td>\n",
       "      <td>England</td>\n",
       "      <td>2018</td>\n",
       "    </tr>\n",
       "    <tr>\n",
       "      <th>864</th>\n",
       "      <td>Russia</td>\n",
       "      <td>2–2 (a.e.t.)</td>\n",
       "      <td>Croatia</td>\n",
       "      <td>2018</td>\n",
       "    </tr>\n",
       "    <tr>\n",
       "      <th>865</th>\n",
       "      <td>Croatia</td>\n",
       "      <td>2–1 (a.e.t.)</td>\n",
       "      <td>England</td>\n",
       "      <td>2018</td>\n",
       "    </tr>\n",
       "    <tr>\n",
       "      <th>867</th>\n",
       "      <td>Japan</td>\n",
       "      <td>0–1</td>\n",
       "      <td>Poland</td>\n",
       "      <td>2018</td>\n",
       "    </tr>\n",
       "    <tr>\n",
       "      <th>900</th>\n",
       "      <td>Brazil</td>\n",
       "      <td>1–2</td>\n",
       "      <td>Belgium</td>\n",
       "      <td>2018</td>\n",
       "    </tr>\n",
       "  </tbody>\n",
       "</table>\n",
       "<p>901 rows × 4 columns</p>\n",
       "</div>"
      ],
      "text/plain": [
       "               home         score      away  year\n",
       "0           France            4–1    Mexico  1930\n",
       "17   United States            3–0   Belgium  1930\n",
       "16          Brazil            4–0   Bolivia  1930\n",
       "15       Argentina            1–0    France  1930\n",
       "14           Chile            3–0    Mexico  1930\n",
       "..              ...           ...       ...   ...\n",
       "863         Sweden            0–2   England  2018\n",
       "864         Russia   2–2 (a.e.t.)   Croatia  2018\n",
       "865        Croatia   2–1 (a.e.t.)   England  2018\n",
       "867          Japan            0–1    Poland  2018\n",
       "900         Brazil            1–2   Belgium  2018\n",
       "\n",
       "[901 rows x 4 columns]"
      ]
     },
     "execution_count": 34,
     "metadata": {},
     "output_type": "execute_result"
    }
   ],
   "source": [
    "# Unimos la data faltante a la data histórica\n",
    "# Ignoramos los indices originales y todo se enumera desde cero\n",
    "df_data_historica = pd.concat([df_data_historica, df_data_faltante], ignore_index = True)\n",
    "# Prueba que no hay ningun dato NaN\n",
    "df_data_historica[df_data_historica['home'].isnull()]\n",
    "# Borra elementos duplicados\n",
    "df_data_historica.drop_duplicates(inplace = True)\n",
    "# Ordena según el año\n",
    "df_data_historica.sort_values('year', inplace = True)\n",
    "df_data_historica"
   ]
  },
  {
   "cell_type": "markdown",
   "id": "70002839",
   "metadata": {},
   "source": [
    "### Limpieza df_data_historica"
   ]
  },
  {
   "cell_type": "code",
   "execution_count": 44,
   "id": "40c686d2",
   "metadata": {},
   "outputs": [
    {
     "data": {
      "text/html": [
       "<div>\n",
       "<style scoped>\n",
       "    .dataframe tbody tr th:only-of-type {\n",
       "        vertical-align: middle;\n",
       "    }\n",
       "\n",
       "    .dataframe tbody tr th {\n",
       "        vertical-align: top;\n",
       "    }\n",
       "\n",
       "    .dataframe thead th {\n",
       "        text-align: right;\n",
       "    }\n",
       "</style>\n",
       "<table border=\"1\" class=\"dataframe\">\n",
       "  <thead>\n",
       "    <tr style=\"text-align: right;\">\n",
       "      <th></th>\n",
       "      <th>home</th>\n",
       "      <th>score</th>\n",
       "      <th>away</th>\n",
       "      <th>year</th>\n",
       "    </tr>\n",
       "  </thead>\n",
       "  <tbody>\n",
       "    <tr>\n",
       "      <th>48</th>\n",
       "      <td>Sweden</td>\n",
       "      <td>w/o[a]</td>\n",
       "      <td>Austria</td>\n",
       "      <td>1938</td>\n",
       "    </tr>\n",
       "  </tbody>\n",
       "</table>\n",
       "</div>"
      ],
      "text/plain": [
       "       home   score      away  year\n",
       "48  Sweden   w/o[a]   Austria  1938"
      ]
     },
     "execution_count": 44,
     "metadata": {},
     "output_type": "execute_result"
    }
   ],
   "source": [
    "# Este encuentro presenta un walk over, y esto puede afectar los resultados si queremos predecir \n",
    "# al ganador del mundial basado en goles anotados por ejemplo\n",
    "df_data_historica[df_data_historica['home'].str.contains('Sweden') & \n",
    "                  df_data_historica['away'].str.contains('Austria')]"
   ]
  },
  {
   "cell_type": "code",
   "execution_count": 54,
   "id": "8dc4d01c",
   "metadata": {},
   "outputs": [],
   "source": [
    "# Debemos eliminar el elemeno anterior\n",
    "# Obtenemos el index del elemento\n",
    "index_eliminar = df_data_historica[df_data_historica['home'].str.contains('Sweden') & \n",
    "                  df_data_historica['away'].str.contains('Austria')].index\n",
    "# Eliminamos\n",
    "df_data_historica.drop(index = index_eliminar, inplace = True)"
   ]
  },
  {
   "cell_type": "code",
   "execution_count": 59,
   "id": "c08f8475",
   "metadata": {},
   "outputs": [
    {
     "data": {
      "text/plain": [
       "0               4–1\n",
       "17              3–0\n",
       "16              4–0\n",
       "15              1–0\n",
       "14              3–0\n",
       "           ...     \n",
       "863             0–2\n",
       "864    2–2 (a.e.t.)\n",
       "865    2–1 (a.e.t.)\n",
       "867             0–1\n",
       "900             1–2\n",
       "Name: score, Length: 900, dtype: object"
      ]
     },
     "execution_count": 59,
     "metadata": {},
     "output_type": "execute_result"
    }
   ],
   "source": [
    "df_data_historica['score']"
   ]
  },
  {
   "cell_type": "code",
   "execution_count": null,
   "id": "1aad49d2",
   "metadata": {},
   "outputs": [],
   "source": [
    "#Nueva linea"
   ]
  },
  {
   "cell_type": "code",
   "execution_count": null,
   "id": "03ac277d",
   "metadata": {},
   "outputs": [],
   "source": []
  }
 ],
 "metadata": {
  "hide_input": false,
  "kernelspec": {
   "display_name": "Python 3",
   "language": "python",
   "name": "python3"
  },
  "language_info": {
   "codemirror_mode": {
    "name": "ipython",
    "version": 3
   },
   "file_extension": ".py",
   "mimetype": "text/x-python",
   "name": "python",
   "nbconvert_exporter": "python",
   "pygments_lexer": "ipython3",
   "version": "3.8.8"
  },
  "toc": {
   "base_numbering": 1,
   "nav_menu": {},
   "number_sections": true,
   "sideBar": true,
   "skip_h1_title": false,
   "title_cell": "Table of Contents",
   "title_sidebar": "Contents",
   "toc_cell": false,
   "toc_position": {
    "height": "calc(100% - 180px)",
    "left": "10px",
    "top": "150px",
    "width": "213.366px"
   },
   "toc_section_display": true,
   "toc_window_display": false
  },
  "varInspector": {
   "cols": {
    "lenName": 16,
    "lenType": 16,
    "lenVar": 40
   },
   "kernels_config": {
    "python": {
     "delete_cmd_postfix": "",
     "delete_cmd_prefix": "del ",
     "library": "var_list.py",
     "varRefreshCmd": "print(var_dic_list())"
    },
    "r": {
     "delete_cmd_postfix": ") ",
     "delete_cmd_prefix": "rm(",
     "library": "var_list.r",
     "varRefreshCmd": "cat(var_dic_list()) "
    }
   },
   "types_to_exclude": [
    "module",
    "function",
    "builtin_function_or_method",
    "instance",
    "_Feature"
   ],
   "window_display": false
  }
 },
 "nbformat": 4,
 "nbformat_minor": 5
}
